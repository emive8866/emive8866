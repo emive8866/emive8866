{
  "nbformat": 4,
  "nbformat_minor": 0,
  "metadata": {
    "colab": {
      "name": "Python_Analytics_1___Introdução_à_Linguagem_Python.ipynb",
      "provenance": [],
      "collapsed_sections": [],
      "include_colab_link": true
    },
    "kernelspec": {
      "name": "python3",
      "display_name": "Python 3"
    },
    "language_info": {
      "name": "python"
    }
  },
  "cells": [
    {
      "cell_type": "markdown",
      "metadata": {
        "id": "view-in-github",
        "colab_type": "text"
      },
      "source": [
        "<a href=\"https://colab.research.google.com/github/emive8866/emive8866/blob/main/Python_Analytics_1___Introdu%C3%A7%C3%A3o_%C3%A0_Linguagem_Python.ipynb\" target=\"_parent\"><img src=\"https://colab.research.google.com/assets/colab-badge.svg\" alt=\"Open In Colab\"/></a>"
      ]
    },
    {
      "cell_type": "markdown",
      "metadata": {
        "id": "Chd8JptSmjLC"
      },
      "source": [
        "![picture](https://minerador.es/wp-content/uploads/2020/10/sticky-lg.png)"
      ]
    },
    {
      "cell_type": "markdown",
      "metadata": {
        "id": "uyJhqvVvml-B"
      },
      "source": [
        "# Python Analytics #1 | **Introdução à Linguagem Python**\n",
        "*Prof. Orlando Junior*"
      ]
    },
    {
      "cell_type": "markdown",
      "metadata": {
        "id": "HOiUs-2QLSLr"
      },
      "source": [
        "---"
      ]
    },
    {
      "cell_type": "markdown",
      "metadata": {
        "id": "zE_UbFWNLSoA"
      },
      "source": [
        "**Conteúdo**\n",
        "\n",
        "1. O que é Python?\n",
        "2. Variáveis e tipos de dados\n",
        "3. Comandos de entrada e saída\n",
        "4. Operadores e operações\n",
        "5. Métodos, procedimentos e funções\n",
        "6. Estruturas de seleção\n",
        "7. Estruturas de repetição\n",
        "8. Exercícios"
      ]
    },
    {
      "cell_type": "markdown",
      "metadata": {
        "id": "qE3hPuOELS5h"
      },
      "source": [
        "---"
      ]
    },
    {
      "cell_type": "markdown",
      "metadata": {
        "id": "sM5DXML0uR6V"
      },
      "source": [
        "## O que é Python?"
      ]
    },
    {
      "cell_type": "markdown",
      "metadata": {
        "id": "G1IiUQgKoZ_v"
      },
      "source": [
        "> Python é uma linguagem de programação poderosa e fácil de aprender. Ela possui estruturas de dados eficientes em alto nível e uma abordagem efetiva simples para a programação orientada a objetos.A sintaxe elegante e a tipagem dinâmica do Python, junto com sua natureza interpretada, tornam-no uma linguagem ideal para scripts e desenvolvimento rápido de aplicativos em muitas áreas na maioria das plataformas."
      ]
    },
    {
      "cell_type": "markdown",
      "metadata": {
        "id": "A6xSuJh3oa4u"
      },
      "source": [
        "**Características**\n",
        "* Simples e minimalista\n",
        "* Fácil de aprender\n",
        "* Grátis e de código aberto\n",
        "* Linguagem de alto nível\n",
        "* Portável\n",
        "* Interpretada\n",
        "* Orientada a objetos\n",
        "* Extensível\n",
        "* Embarcável"
      ]
    },
    {
      "cell_type": "markdown",
      "metadata": {
        "id": "bFK_lYP9pbOU"
      },
      "source": [
        "*I came to Python not because I thought it was a better/acceptable/pragmatic Lisp, but because it was better pseudocode.*\n",
        "\n",
        "-- Peter Norvig, diretor de pesquisa da Google"
      ]
    },
    {
      "cell_type": "markdown",
      "metadata": {
        "id": "UGNYSrALqEEo"
      },
      "source": [
        "## Variáveis e tipos de dados"
      ]
    },
    {
      "cell_type": "markdown",
      "metadata": {
        "id": "jTDTz5fCqZLL"
      },
      "source": [
        "Quando especificamos um `algoritmo`, detalhamos os `dados` que serão processados e as `instruções` (ou comandos), que comandam o funcionamento da máquina e determinam como os dados devem ser manipulados."
      ]
    },
    {
      "cell_type": "markdown",
      "metadata": {
        "id": "F0LD7Xi1HKaC"
      },
      "source": [
        "* **Variáveis** são espaços reservados na memória para armazenar os dados;\n",
        "* Elas possuem nome único que as identifica e um valor;\n",
        "* Uma variável também possui um **tipo de dado** correspondente ao valor que será armazenado."
      ]
    },
    {
      "cell_type": "markdown",
      "metadata": {
        "id": "yNn93VQ8kVSv"
      },
      "source": [
        "**Regras**\n",
        "1. Não pode começar com números;\n",
        "2. Não pode conter espaços em branco;\n",
        "3. Não pode conter caracteres especiais (#, ?, !, @, +, -,...);\n",
        "4. Não pode ser uma palavra reservada da linguagem."
      ]
    },
    {
      "cell_type": "markdown",
      "metadata": {
        "id": "IVtvGR0uF8ZD"
      },
      "source": [
        "**Tipo de dado: inteiro**"
      ]
    },
    {
      "cell_type": "code",
      "metadata": {
        "id": "jAytdsPIlpTH"
      },
      "source": [
        "idade = 26"
      ],
      "execution_count": null,
      "outputs": []
    },
    {
      "cell_type": "code",
      "metadata": {
        "id": "woaA3uCtJHqx"
      },
      "source": [
        "idade"
      ],
      "execution_count": null,
      "outputs": []
    },
    {
      "cell_type": "markdown",
      "metadata": {
        "id": "qUpd8r3vGAtp"
      },
      "source": [
        "**Tipo de dado: real**"
      ]
    },
    {
      "cell_type": "code",
      "metadata": {
        "id": "DX4NQLyFGBHS"
      },
      "source": [
        "salario = 8716.98"
      ],
      "execution_count": null,
      "outputs": []
    },
    {
      "cell_type": "code",
      "metadata": {
        "id": "HyMQisxCJKB5"
      },
      "source": [
        "salario"
      ],
      "execution_count": null,
      "outputs": []
    },
    {
      "cell_type": "markdown",
      "metadata": {
        "id": "5FvtSUXHGIIa"
      },
      "source": [
        "**Tipo de dado: caractere**"
      ]
    },
    {
      "cell_type": "code",
      "metadata": {
        "id": "jFlndlaDGINL"
      },
      "source": [
        "sexo = 'F'"
      ],
      "execution_count": null,
      "outputs": []
    },
    {
      "cell_type": "code",
      "metadata": {
        "id": "aQ_s01jDJLjB"
      },
      "source": [
        "sexo"
      ],
      "execution_count": null,
      "outputs": []
    },
    {
      "cell_type": "markdown",
      "metadata": {
        "id": "O4EbNWliGEYy"
      },
      "source": [
        "**Tipo de dado: cadeia de caracteres**"
      ]
    },
    {
      "cell_type": "code",
      "metadata": {
        "id": "0M9E5mCfGEg7"
      },
      "source": [
        "nome = \"João Carlos\""
      ],
      "execution_count": null,
      "outputs": []
    },
    {
      "cell_type": "code",
      "metadata": {
        "id": "Vtz4Edw-JNJI"
      },
      "source": [
        "nome"
      ],
      "execution_count": null,
      "outputs": []
    },
    {
      "cell_type": "code",
      "metadata": {
        "id": "sd0EIri_mLlv"
      },
      "source": [
        "nome[0:4]"
      ],
      "execution_count": null,
      "outputs": []
    },
    {
      "cell_type": "code",
      "metadata": {
        "id": "UbtoxZ2zmcn3"
      },
      "source": [
        "nome + ' Pereira'"
      ],
      "execution_count": null,
      "outputs": []
    },
    {
      "cell_type": "code",
      "metadata": {
        "id": "73X1IBgemWFn"
      },
      "source": [
        "nome * 2"
      ],
      "execution_count": null,
      "outputs": []
    },
    {
      "cell_type": "markdown",
      "metadata": {
        "id": "ABjEuUe1GEm5"
      },
      "source": [
        "**Tipo de dado: lógico**"
      ]
    },
    {
      "cell_type": "code",
      "metadata": {
        "id": "F5kFYRQ8GEq-"
      },
      "source": [
        "tem_carro = False\n",
        "tem_carro"
      ],
      "execution_count": null,
      "outputs": []
    },
    {
      "cell_type": "code",
      "metadata": {
        "id": "WKPem1vzIQWK"
      },
      "source": [
        "tem_casa = True\n",
        "tem_casa"
      ],
      "execution_count": null,
      "outputs": []
    },
    {
      "cell_type": "markdown",
      "metadata": {
        "id": "vKnqhdqeIFsE"
      },
      "source": [
        "**Formas de atribuição de valores**"
      ]
    },
    {
      "cell_type": "code",
      "metadata": {
        "id": "3WCTDzQMILSj"
      },
      "source": [
        "x = 1 + 2"
      ],
      "execution_count": null,
      "outputs": []
    },
    {
      "cell_type": "code",
      "metadata": {
        "id": "faW3hYkVI_Vp"
      },
      "source": [
        "x = y = 10000"
      ],
      "execution_count": null,
      "outputs": []
    },
    {
      "cell_type": "code",
      "metadata": {
        "id": "BuEeLixmIF85"
      },
      "source": [
        "a, b, c = 10, 20, 30"
      ],
      "execution_count": null,
      "outputs": []
    },
    {
      "cell_type": "markdown",
      "metadata": {
        "id": "-IoZNNFnqGT0"
      },
      "source": [
        "## Comandos de entrada e saída"
      ]
    },
    {
      "cell_type": "markdown",
      "metadata": {
        "id": "062Zq1m1q8XK"
      },
      "source": [
        "Os algoritmos precisam ser alimentados com dados provenientes do meio externo para efetuarem as operações e cálculos. Também é necessário mostrar os resultados aos usuários ou a outros processos."
      ]
    },
    {
      "cell_type": "markdown",
      "metadata": {
        "id": "hbE7mMDjqJON"
      },
      "source": [
        "**Entrada de dados**"
      ]
    },
    {
      "cell_type": "code",
      "metadata": {
        "id": "lkJaaDf3rFh7"
      },
      "source": [
        "nome = input(\"Digite seu nome: \")"
      ],
      "execution_count": null,
      "outputs": []
    },
    {
      "cell_type": "code",
      "metadata": {
        "id": "LV-aANxprS__",
        "colab": {
          "base_uri": "https://localhost:8080/"
        },
        "outputId": "b5d0c6b8-9cd1-46f2-ce8e-b013eb613434"
      },
      "source": [
        "idade = int(input(\"Digite sua idade: \"))"
      ],
      "execution_count": 1,
      "outputs": [
        {
          "output_type": "stream",
          "text": [
            "Digite sua idade: 40\n"
          ],
          "name": "stdout"
        }
      ]
    },
    {
      "cell_type": "code",
      "metadata": {
        "id": "SjWMsMcerZj5"
      },
      "source": [
        "salario = float(input(\"Digite seu salário: \"))"
      ],
      "execution_count": null,
      "outputs": []
    },
    {
      "cell_type": "markdown",
      "metadata": {
        "id": "fxEE95BnrFsH"
      },
      "source": [
        "**Saída de dados**"
      ]
    },
    {
      "cell_type": "code",
      "metadata": {
        "id": "ms8As7XRrFwV"
      },
      "source": [
        "print(nome)"
      ],
      "execution_count": null,
      "outputs": []
    },
    {
      "cell_type": "code",
      "metadata": {
        "id": "JdXIeQygsycE"
      },
      "source": [
        "print(\"Nome: \", nome)"
      ],
      "execution_count": null,
      "outputs": []
    },
    {
      "cell_type": "code",
      "metadata": {
        "id": "2cfQ0BvEm0KZ"
      },
      "source": [
        "print(\"Idade: \", end='')\n",
        "print(idade)"
      ],
      "execution_count": null,
      "outputs": []
    },
    {
      "cell_type": "code",
      "metadata": {
        "id": "jiHsPa-xs6pU"
      },
      "source": [
        "print(\"Salário: %.4f\" % salario)"
      ],
      "execution_count": null,
      "outputs": []
    },
    {
      "cell_type": "code",
      "metadata": {
        "id": "u7GoIvq6tEUF"
      },
      "source": [
        "print(\"Meu nome é {0}, eu tenho {1} anos e ganho R$ {2} por mês.\".format(nome, idade, salario))"
      ],
      "execution_count": null,
      "outputs": []
    },
    {
      "cell_type": "markdown",
      "metadata": {
        "id": "vrc7QNYCqMDV"
      },
      "source": [
        "## Operadores e operações"
      ]
    },
    {
      "cell_type": "markdown",
      "metadata": {
        "id": "NC3YGraUtsD1"
      },
      "source": [
        "`Operadores` manipulam o valor dos `operandos` e executam `operações`."
      ]
    },
    {
      "cell_type": "markdown",
      "metadata": {
        "id": "PJSExHGMtw0G"
      },
      "source": [
        "**Operadores aritméticos**"
      ]
    },
    {
      "cell_type": "code",
      "metadata": {
        "id": "Pkprh-drqQ9b"
      },
      "source": [
        "# Soma\n",
        "a = 1 + 2\n",
        "print(a)"
      ],
      "execution_count": null,
      "outputs": []
    },
    {
      "cell_type": "code",
      "metadata": {
        "id": "lseDoi4qt6Bd"
      },
      "source": [
        "# Subtração\n",
        "b = 2 - 1\n",
        "print(b)"
      ],
      "execution_count": null,
      "outputs": []
    },
    {
      "cell_type": "code",
      "metadata": {
        "id": "GQ2JiU7Mt-WL"
      },
      "source": [
        "# Multiplicação\n",
        "c = 2 * 3.5\n",
        "print(c)"
      ],
      "execution_count": null,
      "outputs": []
    },
    {
      "cell_type": "code",
      "metadata": {
        "id": "z3_olJwAt8lK"
      },
      "source": [
        "# Divisão\n",
        "d = 4 / 2\n",
        "print(d)"
      ],
      "execution_count": null,
      "outputs": []
    },
    {
      "cell_type": "code",
      "metadata": {
        "id": "9TOmck0GuDOL"
      },
      "source": [
        "# Resto da divisão de números inteiros\n",
        "e = 10 % 3\n",
        "print(e)"
      ],
      "execution_count": null,
      "outputs": []
    },
    {
      "cell_type": "code",
      "metadata": {
        "id": "P3ekb5jquOtT"
      },
      "source": [
        "# Divisão de ponto flutuante\n",
        "# Devolve a parte inteira\n",
        "f = 9.0 // 2.0\n",
        "print(f)"
      ],
      "execution_count": null,
      "outputs": []
    },
    {
      "cell_type": "code",
      "metadata": {
        "id": "vi9d4GB9uq3E"
      },
      "source": [
        "# Exponenciação\n",
        "g = 3 ** 2\n",
        "print(g)"
      ],
      "execution_count": null,
      "outputs": []
    },
    {
      "cell_type": "markdown",
      "metadata": {
        "id": "QSjPXn3mvhU2"
      },
      "source": [
        "**Operadores relacionais**"
      ]
    },
    {
      "cell_type": "code",
      "metadata": {
        "id": "14wp-KVXvq1U"
      },
      "source": [
        "resposta = (1 == 1)\n",
        "print(resposta)"
      ],
      "execution_count": null,
      "outputs": []
    },
    {
      "cell_type": "code",
      "metadata": {
        "id": "5YpVTgePvrGb"
      },
      "source": [
        "resposta = (1 == 2)\n",
        "print(resposta)"
      ],
      "execution_count": null,
      "outputs": []
    },
    {
      "cell_type": "code",
      "metadata": {
        "id": "kcTOycxtvrJd"
      },
      "source": [
        "resposta = (1 != 2)\n",
        "print(resposta)"
      ],
      "execution_count": null,
      "outputs": []
    },
    {
      "cell_type": "code",
      "metadata": {
        "id": "amwWOC89wCfc"
      },
      "source": [
        "resposta = (1 > 2)\n",
        "print(resposta)"
      ],
      "execution_count": null,
      "outputs": []
    },
    {
      "cell_type": "code",
      "metadata": {
        "id": "UnyBlBPBwEFD"
      },
      "source": [
        "resposta = (1 < 2)\n",
        "print(resposta)"
      ],
      "execution_count": null,
      "outputs": []
    },
    {
      "cell_type": "code",
      "metadata": {
        "id": "b3-ijuhLwH4b"
      },
      "source": [
        "resposta = (1 >= 2)\n",
        "print(resposta)"
      ],
      "execution_count": null,
      "outputs": []
    },
    {
      "cell_type": "code",
      "metadata": {
        "id": "UJHmZlrFwIWk"
      },
      "source": [
        "resposta = (2 <= 2)\n",
        "print(resposta)"
      ],
      "execution_count": null,
      "outputs": []
    },
    {
      "cell_type": "markdown",
      "metadata": {
        "id": "t2K0hewXwbYl"
      },
      "source": [
        "**Operadores lógicos**"
      ]
    },
    {
      "cell_type": "code",
      "metadata": {
        "id": "LJRYR-ulyVnh"
      },
      "source": [
        "print(\"NÃO (Verdadeiro): \", not True)\n",
        "print(\"NÃO (Falso)     : \", not False)"
      ],
      "execution_count": null,
      "outputs": []
    },
    {
      "cell_type": "code",
      "metadata": {
        "id": "7pCT-_rSwdac"
      },
      "source": [
        "print(\"(Verdadeiro) E (Verdadeiro): \", True and True)\n",
        "print(\"(Verdadeiro) E (Falso)     : \", True and False)\n",
        "print(\"(Falso)      E (Verdadeiro): \", False and True)\n",
        "print(\"(Falso)      E (Falso)     : \", False and False)"
      ],
      "execution_count": null,
      "outputs": []
    },
    {
      "cell_type": "code",
      "metadata": {
        "id": "9m49BvX5x157"
      },
      "source": [
        "print(\"(Verdadeiro) OU (Verdadeiro): \", True and True)\n",
        "print(\"(Verdadeiro) OU (Falso)     : \", True and False)\n",
        "print(\"(Falso)      OU (Verdadeiro): \", False and True)\n",
        "print(\"(Falso)      OU (Falso)     : \", False and False)"
      ],
      "execution_count": null,
      "outputs": []
    },
    {
      "cell_type": "markdown",
      "metadata": {
        "id": "7sxhCBxxqRmT"
      },
      "source": [
        "## Métodos, procedimentos e funções"
      ]
    },
    {
      "cell_type": "markdown",
      "metadata": {
        "id": "rS_oUPpWqXlm"
      },
      "source": [
        "Um algoritmo pode ser simplificado quando dividido em vários `métodos`, que podem ser classificados em `procedimentos` (sem retorno de valor) e `funções` (com retorno de valor). A principal vantagem da construção e utilização de métodos é a possibilidade de reutilizá-los diversas vezes ao longo do código."
      ]
    },
    {
      "cell_type": "markdown",
      "metadata": {
        "id": "Smq7bWwT1KCy"
      },
      "source": [
        "**Procedimentos**"
      ]
    },
    {
      "cell_type": "code",
      "metadata": {
        "id": "DWAtBzAvqUPk"
      },
      "source": [
        "# Definição\n",
        "def cumprimenta():\n",
        "  print(\"Olá, tudo bem?\")"
      ],
      "execution_count": null,
      "outputs": []
    },
    {
      "cell_type": "code",
      "metadata": {
        "id": "Vc03fp1pqURy"
      },
      "source": [
        "# Utilização\n",
        "cumprimenta()"
      ],
      "execution_count": null,
      "outputs": []
    },
    {
      "cell_type": "code",
      "metadata": {
        "id": "2X3FtG6cqUUn"
      },
      "source": [
        "# Definição com parâmetros\n",
        "def cumprimentaComNome(nome):\n",
        "  print(\"Olá, {0}! Tudo bem com você?\".format(nome))"
      ],
      "execution_count": null,
      "outputs": []
    },
    {
      "cell_type": "code",
      "metadata": {
        "id": "VIjD6H5O16Fg"
      },
      "source": [
        "# Utilização\n",
        "cumprimentaComNome(\"João\")"
      ],
      "execution_count": null,
      "outputs": []
    },
    {
      "cell_type": "markdown",
      "metadata": {
        "id": "rN1idN6bqUfj"
      },
      "source": [
        "**Funções**"
      ]
    },
    {
      "cell_type": "code",
      "metadata": {
        "id": "2jnGTyNf1WA2"
      },
      "source": [
        "# Definição\n",
        "def soma(x, y):\n",
        "  return x + y"
      ],
      "execution_count": null,
      "outputs": []
    },
    {
      "cell_type": "code",
      "metadata": {
        "id": "sComVMvf5tdo"
      },
      "source": [
        "# Utilização\n",
        "print(soma(10, 20))\n",
        "print(soma(20, 30))\n",
        "print(soma(30, 40))\n",
        "print(soma(40, 50))"
      ],
      "execution_count": null,
      "outputs": []
    },
    {
      "cell_type": "code",
      "metadata": {
        "id": "SO3aTqHw5zg3"
      },
      "source": [
        "resultado = soma(soma(10, 20), soma(100, 200))\n",
        "print(resultado)"
      ],
      "execution_count": null,
      "outputs": []
    },
    {
      "cell_type": "markdown",
      "metadata": {
        "id": "n163bbfyqbbE"
      },
      "source": [
        "## Estruturas de seleção"
      ]
    },
    {
      "cell_type": "markdown",
      "metadata": {
        "id": "ZNtPIqOf95up"
      },
      "source": [
        "A tomada de decisão é a antecipação das condições que ocorrem durante a execução do programa e a especificação das ações executadas de acordo com as condições. As estruturas de seleção avaliam várias expressões que produzem VERDADEIRO ou FALSO como resultado. Você precisa determinar qual ação tomar e quais instruções executar se o resultado for VERDADEIRO ou FALSO."
      ]
    },
    {
      "cell_type": "markdown",
      "metadata": {
        "id": "e2NDzmS2G-kK"
      },
      "source": [
        "![picture](https://upload.wikimedia.org/wikipedia/commons/4/46/LampFlowchart_pt.svg)"
      ]
    },
    {
      "cell_type": "markdown",
      "metadata": {
        "id": "vSFUaiIoBavf"
      },
      "source": [
        "**Estrutura SE (if)**"
      ]
    },
    {
      "cell_type": "code",
      "metadata": {
        "id": "jXJGFLLJqdEv"
      },
      "source": [
        "salario = 1200.00\n",
        "if (salario < 2000):\n",
        "  print(\"Você pode ganhar mais!\")"
      ],
      "execution_count": null,
      "outputs": []
    },
    {
      "cell_type": "code",
      "metadata": {
        "id": "cMwed9UMCqvU"
      },
      "source": [
        "idade = 20\n",
        "salario = 1200.00\n",
        "\n",
        "if (idade >= 18 and salario < 2000):\n",
        "  print(\"Você é jovem e pode ganhar mais!\")"
      ],
      "execution_count": null,
      "outputs": []
    },
    {
      "cell_type": "markdown",
      "metadata": {
        "id": "TBdLh_ExBiW-"
      },
      "source": [
        "**Estrutura SE-SENÃO (if-else)**"
      ]
    },
    {
      "cell_type": "code",
      "metadata": {
        "id": "7j7ioWh8Bs7T"
      },
      "source": [
        "idade = 30\n",
        "salario = 8000.00\n",
        "\n",
        "if (idade >= 18 and salario < 2000):\n",
        "  print(\"Você é jovem e pode ganhar mais!\")\n",
        "else:\n",
        "  print(\"Você está ganhando muito bem!\")"
      ],
      "execution_count": null,
      "outputs": []
    },
    {
      "cell_type": "markdown",
      "metadata": {
        "id": "7ShonfWOBtI8"
      },
      "source": [
        "**Estruturas aninhadas (if-elif-else)**"
      ]
    },
    {
      "cell_type": "code",
      "metadata": {
        "id": "zKRX63NyBtVU"
      },
      "source": [
        "idade = 14\n",
        "salario = 4000.00\n",
        "\n",
        "if (idade < 18):\n",
        "  print(\"Você não deveria estar trabalhando!\")\n",
        "elif (idade >= 18 and salario < 2000):\n",
        "  print(\"Você é jovem e pode ganhar mais!\")\n",
        "else:\n",
        "  print(\"Você está ganhando muito bem!\")"
      ],
      "execution_count": null,
      "outputs": []
    },
    {
      "cell_type": "markdown",
      "metadata": {
        "id": "29Y8bnFBqhrU"
      },
      "source": [
        "## Estruturas de repetição"
      ]
    },
    {
      "cell_type": "markdown",
      "metadata": {
        "id": "vdblln3nGeIz"
      },
      "source": [
        "Em geral, as instruções são executadas sequencialmente. Porém, podem haver situações em que você precise executar um bloco de código várias vezes. Uma estrutura de repetição (*loop* ou laço) nos permite executar uma instrução ou grupo de instruções várias vezes."
      ]
    },
    {
      "cell_type": "markdown",
      "metadata": {
        "id": "1zHCGtiTIW9b"
      },
      "source": [
        "* **Laços contados:** utiliza um contador que auxiliará no laço, possibilitando a repetição da estrutura até que o contador atinja o limite determinado na condição;\n",
        "* **Laços condicionais:** o valor é desconhecido e devemos utilizar uma variável com valor pré-definido em uma condição dentro do laço para finalizarmos a repetição."
      ]
    },
    {
      "cell_type": "markdown",
      "metadata": {
        "id": "1POFRlfyHhbq"
      },
      "source": [
        "![picture](https://upload.wikimedia.org/wikipedia/commons/0/06/For-loop-diagram.png)"
      ]
    },
    {
      "cell_type": "markdown",
      "metadata": {
        "id": "jd99NctPJZtQ"
      },
      "source": [
        "Independente do tipo de estrutura de repetição, todos os laços são constituídos por três partes: \n",
        "1. Inicialização da variável de controle;\n",
        "2. Condição;\n",
        "3. Atualização da variável de controle."
      ]
    },
    {
      "cell_type": "markdown",
      "metadata": {
        "id": "FzhPzdzlOZE7"
      },
      "source": [
        "**Laço PARA (for)**"
      ]
    },
    {
      "cell_type": "markdown",
      "metadata": {
        "id": "wopho9P_lDZR"
      },
      "source": [
        "Itera sobre os elementos de uma sequência, como uma lista um uma cadeia de caracteres."
      ]
    },
    {
      "cell_type": "code",
      "metadata": {
        "id": "hrzHAHBhGda8"
      },
      "source": [
        "# Percorre sobre um texto\n",
        "nome = \"João Carlos Pereira\"\n",
        "for c in nome:\n",
        "  print(c, end='-')"
      ],
      "execution_count": null,
      "outputs": []
    },
    {
      "cell_type": "code",
      "metadata": {
        "id": "4N_xTVSHqi48"
      },
      "source": [
        "# Imprime os números de 0 a 10\n",
        "# Função range: cria uma sequência de valores\n",
        "for n in range(10):\n",
        "  print(n, end=' ')"
      ],
      "execution_count": null,
      "outputs": []
    },
    {
      "cell_type": "code",
      "metadata": {
        "id": "awrHw4L_qi-Q"
      },
      "source": [
        "# Imprime os números de 5 a 15\n",
        "for n in range(5, 16):\n",
        "  print(n, end=' ')"
      ],
      "execution_count": null,
      "outputs": []
    },
    {
      "cell_type": "code",
      "metadata": {
        "id": "5QGQQ2Iunhrq"
      },
      "source": [
        "# Imprime os números pares de 0 a 10\n",
        "for n in range(0, 11, 2):\n",
        "  print(n, end=' ')"
      ],
      "execution_count": null,
      "outputs": []
    },
    {
      "cell_type": "code",
      "metadata": {
        "id": "HH0GagztnZOQ"
      },
      "source": [
        "# Imprime uma sequência de palavras\n",
        "salada_mista = ['maçã', 'banana', 'uva', 'pêra']\n",
        "for fruta in salada_mista:\n",
        "  print(fruta)"
      ],
      "execution_count": null,
      "outputs": []
    },
    {
      "cell_type": "code",
      "metadata": {
        "id": "tZskotPiqcGr"
      },
      "source": [
        "# Imprime uma sequência de palavras pelo índice da sequência\n",
        "lista_nomes = ['João', 'Maria', 'Carlos', 'Renata']\n",
        "for idx in range(len(lista_nomes)):\n",
        "  print(\"Índice: \", idx, end='\\t')\n",
        "  print(\"Nome:\", lista_nomes[idx])"
      ],
      "execution_count": null,
      "outputs": []
    },
    {
      "cell_type": "markdown",
      "metadata": {
        "id": "ZhfQJ_pLj454"
      },
      "source": [
        "**Declação BREAK**"
      ]
    },
    {
      "cell_type": "markdown",
      "metadata": {
        "id": "whPG0Yw8susG"
      },
      "source": [
        "Encerra o laço e segue para a próxima instrução fora da estrutura de repetição."
      ]
    },
    {
      "cell_type": "code",
      "metadata": {
        "id": "fumVUSmZj-lJ"
      },
      "source": [
        "# Recebe uma lista de números entre 0 e 100 e\n",
        "# Imprime até o número 25, interrompendo o laço.\n",
        "for i in range(0, 101):  \n",
        "  if (i > 25):\n",
        "    break\n",
        "  print(i, end=' ')"
      ],
      "execution_count": null,
      "outputs": []
    },
    {
      "cell_type": "markdown",
      "metadata": {
        "id": "F1YbjaDlj-wo"
      },
      "source": [
        "**Declação CONTINUE**"
      ]
    },
    {
      "cell_type": "markdown",
      "metadata": {
        "id": "QGmnpbNts3dl"
      },
      "source": [
        "Devolve o controle da repetição ao início do laço."
      ]
    },
    {
      "cell_type": "code",
      "metadata": {
        "id": "uFrLAfO_kCFA"
      },
      "source": [
        "# Imprime os números pares entre 0 e 20\n",
        "for i in range(0, 21):\n",
        "  if (i % 2 != 0):\n",
        "    continue\n",
        "  print(i)"
      ],
      "execution_count": null,
      "outputs": []
    },
    {
      "cell_type": "markdown",
      "metadata": {
        "id": "J5twkgNuOmPv"
      },
      "source": [
        "**Estrutura ENQUANTO (while)**"
      ]
    },
    {
      "cell_type": "markdown",
      "metadata": {
        "id": "8P87BCZesiBQ"
      },
      "source": [
        "A condição é verificada antes da primeira execução do loop. Se a condição for falsa na 1ª vez que for avaliada, as instruções desse laço não serão executadas nenhuma vez."
      ]
    },
    {
      "cell_type": "code",
      "metadata": {
        "id": "vHmKHX8IOoYm"
      },
      "source": [
        "# Loop contado\n",
        "contador = 1\n",
        "while contador <= 25:\n",
        "  print(contador, end=' ')\n",
        "  contador = contador + 1"
      ],
      "execution_count": null,
      "outputs": []
    },
    {
      "cell_type": "code",
      "metadata": {
        "id": "VUJ4MnQxOoa5"
      },
      "source": [
        "# Loop condicional\n",
        "resposta = 'S'\n",
        "while resposta == 'S':\n",
        "  peso = float(input(\"Peso (kg): \"))\n",
        "  altura = float(input(\"Altura (m): \"))\n",
        "  imc = peso / altura ** 2\n",
        "  print(\"IMC: %.2f\" % imc)\n",
        "\n",
        "  resposta = input(\"Deseja continuar (S/N)? \")"
      ],
      "execution_count": null,
      "outputs": []
    },
    {
      "cell_type": "markdown",
      "metadata": {
        "id": "05PfUboKsOkU"
      },
      "source": [
        "## Exercícios"
      ]
    },
    {
      "cell_type": "markdown",
      "metadata": {
        "id": "jrZ6YXn7BmtV"
      },
      "source": [
        "**1 #** Elabore um algoritmo que solicite dois números ao usuário e imprima a soma entre esses números."
      ]
    },
    {
      "cell_type": "code",
      "metadata": {
        "id": "qUiasIEMBm0-",
        "colab": {
          "base_uri": "https://localhost:8080/"
        },
        "outputId": "d935c252-5616-402f-80bd-a9cb7ffdd953"
      },
      "source": [
        "idade=int(input(\"digite sua idade \"))"
      ],
      "execution_count": 2,
      "outputs": [
        {
          "output_type": "stream",
          "text": [
            "digite sua idade 40\n"
          ],
          "name": "stdout"
        }
      ]
    },
    {
      "cell_type": "code",
      "metadata": {
        "colab": {
          "base_uri": "https://localhost:8080/"
        },
        "id": "Fn2BPpMkxg0C",
        "outputId": "db7be398-fed8-464e-f211-a1699f0244ba"
      },
      "source": [
        "idade=int(input(\"diite sua idade \"))"
      ],
      "execution_count": 3,
      "outputs": [
        {
          "output_type": "stream",
          "text": [
            "diite sua idade 38\n"
          ],
          "name": "stdout"
        }
      ]
    },
    {
      "cell_type": "code",
      "metadata": {
        "colab": {
          "base_uri": "https://localhost:8080/"
        },
        "id": "IAzXk5bOxp_b",
        "outputId": "26fdd19c-87cf-4007-85f4-f3f11af9edbb"
      },
      "source": [
        "#Soma\n",
        "a=40+38\n",
        "print(a)"
      ],
      "execution_count": 4,
      "outputs": [
        {
          "output_type": "stream",
          "text": [
            "79\n"
          ],
          "name": "stdout"
        }
      ]
    },
    {
      "cell_type": "code",
      "metadata": {
        "id": "CpXrfttgx5A2"
      },
      "source": [
        ""
      ],
      "execution_count": null,
      "outputs": []
    },
    {
      "cell_type": "markdown",
      "metadata": {
        "id": "2a6kdE5QBm7i"
      },
      "source": [
        "**2 #** Elabore um algoritmo que leia quanto você ganha por hora e o número de horas trabalhadas no mês. Calcule e mostre o total do seu salário no referido mês."
      ]
    },
    {
      "cell_type": "code",
      "metadata": {
        "id": "B_yszOTrBnAI"
      },
      "source": [
        ""
      ],
      "execution_count": null,
      "outputs": []
    },
    {
      "cell_type": "markdown",
      "metadata": {
        "id": "n-3OoFZuBc9-"
      },
      "source": [
        "**3 #** Elabore um algoritmo que leia um valor e mostre na tela se o valor é positivo ou negativo."
      ]
    },
    {
      "cell_type": "code",
      "metadata": {
        "id": "JKLhNRfWBdI3"
      },
      "source": [
        ""
      ],
      "execution_count": null,
      "outputs": []
    },
    {
      "cell_type": "markdown",
      "metadata": {
        "id": "mnJrAOjdBdc4"
      },
      "source": [
        "**4 #** Elabore um algoritmo que imprima os números ímpares entre 1 e 100. "
      ]
    },
    {
      "cell_type": "code",
      "metadata": {
        "id": "V7Zpcgy9BdjK"
      },
      "source": [
        ""
      ],
      "execution_count": null,
      "outputs": []
    },
    {
      "cell_type": "markdown",
      "metadata": {
        "id": "CPE3SjP9Bdo5"
      },
      "source": [
        "**5 #** Elabore um algoritmo que imprima a tabuada entre 1 e 10, conforme apresentado na saída."
      ]
    },
    {
      "cell_type": "code",
      "metadata": {
        "id": "LEtk_TfnBdtQ",
        "colab": {
          "base_uri": "https://localhost:8080/"
        },
        "outputId": "be3334a6-9e8c-4fcb-db93-bebee8c0af30"
      },
      "source": [
        ""
      ],
      "execution_count": null,
      "outputs": [
        {
          "output_type": "stream",
          "text": [
            "1 x 1 = 1\n",
            "1 x 2 = 2\n",
            "1 x 3 = 3\n",
            "1 x 4 = 4\n",
            "1 x 5 = 5\n",
            "1 x 6 = 6\n",
            "1 x 7 = 7\n",
            "1 x 8 = 8\n",
            "1 x 9 = 9\n",
            "1 x 10 = 10\n",
            "\n",
            "2 x 1 = 2\n",
            "2 x 2 = 4\n",
            "2 x 3 = 6\n",
            "2 x 4 = 8\n",
            "2 x 5 = 10\n",
            "2 x 6 = 12\n",
            "2 x 7 = 14\n",
            "2 x 8 = 16\n",
            "2 x 9 = 18\n",
            "2 x 10 = 20\n",
            "\n",
            "3 x 1 = 3\n",
            "3 x 2 = 6\n",
            "3 x 3 = 9\n",
            "3 x 4 = 12\n",
            "3 x 5 = 15\n",
            "3 x 6 = 18\n",
            "3 x 7 = 21\n",
            "3 x 8 = 24\n",
            "3 x 9 = 27\n",
            "3 x 10 = 30\n",
            "\n",
            "4 x 1 = 4\n",
            "4 x 2 = 8\n",
            "4 x 3 = 12\n",
            "4 x 4 = 16\n",
            "4 x 5 = 20\n",
            "4 x 6 = 24\n",
            "4 x 7 = 28\n",
            "4 x 8 = 32\n",
            "4 x 9 = 36\n",
            "4 x 10 = 40\n",
            "\n",
            "5 x 1 = 5\n",
            "5 x 2 = 10\n",
            "5 x 3 = 15\n",
            "5 x 4 = 20\n",
            "5 x 5 = 25\n",
            "5 x 6 = 30\n",
            "5 x 7 = 35\n",
            "5 x 8 = 40\n",
            "5 x 9 = 45\n",
            "5 x 10 = 50\n",
            "\n",
            "6 x 1 = 6\n",
            "6 x 2 = 12\n",
            "6 x 3 = 18\n",
            "6 x 4 = 24\n",
            "6 x 5 = 30\n",
            "6 x 6 = 36\n",
            "6 x 7 = 42\n",
            "6 x 8 = 48\n",
            "6 x 9 = 54\n",
            "6 x 10 = 60\n",
            "\n",
            "7 x 1 = 7\n",
            "7 x 2 = 14\n",
            "7 x 3 = 21\n",
            "7 x 4 = 28\n",
            "7 x 5 = 35\n",
            "7 x 6 = 42\n",
            "7 x 7 = 49\n",
            "7 x 8 = 56\n",
            "7 x 9 = 63\n",
            "7 x 10 = 70\n",
            "\n",
            "8 x 1 = 8\n",
            "8 x 2 = 16\n",
            "8 x 3 = 24\n",
            "8 x 4 = 32\n",
            "8 x 5 = 40\n",
            "8 x 6 = 48\n",
            "8 x 7 = 56\n",
            "8 x 8 = 64\n",
            "8 x 9 = 72\n",
            "8 x 10 = 80\n",
            "\n",
            "9 x 1 = 9\n",
            "9 x 2 = 18\n",
            "9 x 3 = 27\n",
            "9 x 4 = 36\n",
            "9 x 5 = 45\n",
            "9 x 6 = 54\n",
            "9 x 7 = 63\n",
            "9 x 8 = 72\n",
            "9 x 9 = 81\n",
            "9 x 10 = 90\n",
            "\n",
            "10 x 1 = 10\n",
            "10 x 2 = 20\n",
            "10 x 3 = 30\n",
            "10 x 4 = 40\n",
            "10 x 5 = 50\n",
            "10 x 6 = 60\n",
            "10 x 7 = 70\n",
            "10 x 8 = 80\n",
            "10 x 9 = 90\n",
            "10 x 10 = 100\n",
            "\n"
          ],
          "name": "stdout"
        }
      ]
    },
    {
      "cell_type": "markdown",
      "metadata": {
        "id": "ZpHaRZ_hsQ1t"
      },
      "source": [
        "**6 #** Elabore um algoritmo que leia um valor representando o gasto realizado por um cliente de um restaurante e imprima o valor total a ser pago, considerando os 10% do garçom."
      ]
    },
    {
      "cell_type": "code",
      "metadata": {
        "id": "JFefwP1osQOr"
      },
      "source": [
        ""
      ],
      "execution_count": null,
      "outputs": []
    },
    {
      "cell_type": "markdown",
      "metadata": {
        "id": "WoTi45nCsWUD"
      },
      "source": [
        "**7 #** Elabore um algoritmo que leia dois números inteiros e calcule e mostre o resultado das seguintes operações aritméticas: soma, subtração, multiplicação, divisão e resto da divisão. Construa um método para cada operação e faça com que eles devolvam o valor calculado."
      ]
    },
    {
      "cell_type": "code",
      "metadata": {
        "id": "Zr-VGUvPsWdd"
      },
      "source": [
        "# Método calcula_soma"
      ],
      "execution_count": null,
      "outputs": []
    },
    {
      "cell_type": "code",
      "metadata": {
        "id": "Q0MbHc3h7koJ"
      },
      "source": [
        "# Método calcula_subtracao"
      ],
      "execution_count": null,
      "outputs": []
    },
    {
      "cell_type": "code",
      "metadata": {
        "id": "yBh45z747kqi"
      },
      "source": [
        "# Método calcula_multiplicacao"
      ],
      "execution_count": null,
      "outputs": []
    },
    {
      "cell_type": "code",
      "metadata": {
        "id": "cQ231OAS7ktU"
      },
      "source": [
        "# Método calcula_divisao"
      ],
      "execution_count": null,
      "outputs": []
    },
    {
      "cell_type": "code",
      "metadata": {
        "id": "S8x7yfjX7ySK"
      },
      "source": [
        "# Método calcula_resto_divisao"
      ],
      "execution_count": null,
      "outputs": []
    },
    {
      "cell_type": "code",
      "metadata": {
        "id": "ZBRD02Fa7u7Z"
      },
      "source": [
        "# Aplicação dos métodos"
      ],
      "execution_count": null,
      "outputs": []
    },
    {
      "cell_type": "markdown",
      "metadata": {
        "id": "_VhICqnwsWlU"
      },
      "source": [
        "**8 #** Elabore um algoritmo que leia a cotação do dólar, leia um valor em dólares, converta e mostre o valor equivalente em reais. Construa um método para converter e um método para exibir o valor convertido, apresentando os símbolos monetários (R$)."
      ]
    },
    {
      "cell_type": "code",
      "metadata": {
        "id": "lN7giQtwsWqm"
      },
      "source": [
        "# Método converte"
      ],
      "execution_count": null,
      "outputs": []
    },
    {
      "cell_type": "code",
      "metadata": {
        "id": "iEmQXu5176Q3"
      },
      "source": [
        "# Método exibe"
      ],
      "execution_count": null,
      "outputs": []
    },
    {
      "cell_type": "code",
      "metadata": {
        "id": "GO639DK176Tm"
      },
      "source": [
        "# Aplicação dos métodos"
      ],
      "execution_count": null,
      "outputs": []
    },
    {
      "cell_type": "markdown",
      "metadata": {
        "id": "ATLAAvIXsWwd"
      },
      "source": [
        "**9 #** Elabore um algoritmo que solicite um número ao usuário. Caso seja digitado um valor entre 999 e 9999, mostre a mensagem \"*Senha correta!*\"; caso contrário, mostre \"*Senha incorreta!*\"."
      ]
    },
    {
      "cell_type": "code",
      "metadata": {
        "id": "5czUQ9DBsW1t"
      },
      "source": [
        ""
      ],
      "execution_count": null,
      "outputs": []
    },
    {
      "cell_type": "markdown",
      "metadata": {
        "id": "rTbUxw-LsdEO"
      },
      "source": [
        "**10 #** Elabore um algoritmo que leia uma quantidade N de valores fornecida pelo usuário e calcule a média desses valores."
      ]
    },
    {
      "cell_type": "code",
      "metadata": {
        "id": "aqlU1KAbtJQd"
      },
      "source": [
        ""
      ],
      "execution_count": null,
      "outputs": []
    }
  ]
}